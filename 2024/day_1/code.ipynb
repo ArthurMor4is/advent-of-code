{
 "cells": [
  {
   "cell_type": "code",
   "execution_count": 1,
   "metadata": {},
   "outputs": [],
   "source": [
    "import heapq"
   ]
  },
  {
   "cell_type": "code",
   "execution_count": 2,
   "metadata": {},
   "outputs": [],
   "source": [
    "left, right = [], []\n",
    "heapq.heapify(left)\n",
    "heapq.heapify(right)\n",
    "\n",
    "file = open(\"data.txt\", \"r\")\n",
    "\n",
    "for line in file:\n",
    "    l, r = line.split()\n",
    "    heapq.heappush(left, int(l))\n",
    "    heapq.heappush(right, int(r))\n",
    "\n",
    "total = 0\n",
    "for _ in range(len(left)):\n",
    "    l = heapq.heappop(left)\n",
    "    r = heapq.heappop(right)\n",
    "    total += abs(r - l)"
   ]
  },
  {
   "cell_type": "code",
   "execution_count": 3,
   "metadata": {},
   "outputs": [
    {
     "data": {
      "text/plain": [
       "1590491"
      ]
     },
     "execution_count": 3,
     "metadata": {},
     "output_type": "execute_result"
    }
   ],
   "source": [
    "total"
   ]
  },
  {
   "cell_type": "markdown",
   "metadata": {},
   "source": [
    "---------------"
   ]
  },
  {
   "cell_type": "code",
   "execution_count": 5,
   "metadata": {},
   "outputs": [],
   "source": [
    "from collections import defaultdict"
   ]
  },
  {
   "cell_type": "code",
   "execution_count": 6,
   "metadata": {},
   "outputs": [],
   "source": [
    "file = open(\"data.txt\", \"r\")\n",
    "\n",
    "right_freq = defaultdict(int)\n",
    "for line in file:\n",
    "    _, r = line.split()\n",
    "    right_freq[r] += 1\n",
    "\n",
    "file = open(\"data.txt\", \"r\")\n",
    "\n",
    "total = 0\n",
    "\n",
    "for line in file:\n",
    "    l, _ = line.split()\n",
    "    total += right_freq[l] * int(l)"
   ]
  },
  {
   "cell_type": "code",
   "execution_count": 7,
   "metadata": {},
   "outputs": [
    {
     "data": {
      "text/plain": [
       "22588371"
      ]
     },
     "execution_count": 7,
     "metadata": {},
     "output_type": "execute_result"
    }
   ],
   "source": [
    "total"
   ]
  }
 ],
 "metadata": {
  "kernelspec": {
   "display_name": "Python 3",
   "language": "python",
   "name": "python3"
  },
  "language_info": {
   "codemirror_mode": {
    "name": "ipython",
    "version": 3
   },
   "file_extension": ".py",
   "mimetype": "text/x-python",
   "name": "python",
   "nbconvert_exporter": "python",
   "pygments_lexer": "ipython3",
   "version": "3.11.7"
  }
 },
 "nbformat": 4,
 "nbformat_minor": 2
}
