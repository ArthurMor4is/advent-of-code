{
 "cells": [
  {
   "cell_type": "markdown",
   "metadata": {},
   "source": [
    "## Problem 1"
   ]
  },
  {
   "cell_type": "code",
   "execution_count": 51,
   "metadata": {},
   "outputs": [],
   "source": [
    "f = open('input.txt', 'r')"
   ]
  },
  {
   "cell_type": "code",
   "execution_count": 52,
   "metadata": {},
   "outputs": [],
   "source": [
    "def is_safe(line_numbers: list[int]) -> int:\n",
    "    if len(line_numbers) == 1:\n",
    "        return 1\n",
    "    is_increasing = line_numbers[1] - line_numbers[0] > 0\n",
    "    for idx in range(1, len(line_numbers)):\n",
    "        past_diff = line_numbers[idx] - line_numbers[idx - 1]\n",
    "        if is_increasing and past_diff <= 0:\n",
    "            return 0\n",
    "        if not is_increasing and past_diff >= 0:\n",
    "            return 0\n",
    "        if abs(past_diff) > 3:\n",
    "            return 0\n",
    "    return 1\n"
   ]
  },
  {
   "cell_type": "code",
   "execution_count": 53,
   "metadata": {},
   "outputs": [],
   "source": [
    "safe_count = 0\n",
    "for line in f:\n",
    "    line_numbers = [int(number) for number in line.split(' ')]\n",
    "    safe_count += is_safe(line_numbers)"
   ]
  },
  {
   "cell_type": "code",
   "execution_count": 54,
   "metadata": {},
   "outputs": [
    {
     "name": "stdout",
     "output_type": "stream",
     "text": [
      "402\n"
     ]
    }
   ],
   "source": [
    "print(safe_count)"
   ]
  },
  {
   "cell_type": "markdown",
   "metadata": {},
   "source": [
    "## Problem 2"
   ]
  },
  {
   "cell_type": "code",
   "execution_count": 55,
   "metadata": {},
   "outputs": [],
   "source": [
    "f = open('input.txt', 'r')"
   ]
  },
  {
   "cell_type": "code",
   "execution_count": 56,
   "metadata": {},
   "outputs": [],
   "source": [
    "safe_count = 0\n",
    "for line in f:\n",
    "    line_numbers = [int(number) for number in line.split(' ')]\n",
    "    if is_safe(line_numbers):\n",
    "        safe_count += 1\n",
    "    else:\n",
    "        for i in range(len(line_numbers)):\n",
    "            temp_line_numbers = line_numbers[:i] + line_numbers[i+1:]\n",
    "            if is_safe(temp_line_numbers):\n",
    "                safe_count += 1\n",
    "                break\n",
    "    "
   ]
  },
  {
   "cell_type": "code",
   "execution_count": 57,
   "metadata": {},
   "outputs": [
    {
     "data": {
      "text/plain": [
       "455"
      ]
     },
     "execution_count": 57,
     "metadata": {},
     "output_type": "execute_result"
    }
   ],
   "source": [
    "safe_count"
   ]
  }
 ],
 "metadata": {
  "kernelspec": {
   "display_name": "Python 3",
   "language": "python",
   "name": "python3"
  },
  "language_info": {
   "codemirror_mode": {
    "name": "ipython",
    "version": 3
   },
   "file_extension": ".py",
   "mimetype": "text/x-python",
   "name": "python",
   "nbconvert_exporter": "python",
   "pygments_lexer": "ipython3",
   "version": "3.11.7"
  }
 },
 "nbformat": 4,
 "nbformat_minor": 2
}
